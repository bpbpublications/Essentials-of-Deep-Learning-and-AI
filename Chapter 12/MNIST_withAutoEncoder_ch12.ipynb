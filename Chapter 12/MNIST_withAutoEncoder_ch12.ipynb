{
 "cells": [
  {
   "cell_type": "markdown",
   "metadata": {
    "id": "tyVFY4SwV1l3"
   },
   "source": [
    "# MNSIT dataset with Autoencoder. \n",
    "\n",
    "The final code snippet shows how the Autoencoder (along with encoder and decoder) helps in reducing the noise from the sample output."
   ]
  },
  {
   "cell_type": "code",
   "execution_count": 1,
   "metadata": {
    "id": "Zj6mj7N1PWMm"
   },
   "outputs": [
    {
     "name": "stderr",
     "output_type": "stream",
     "text": [
      "Using TensorFlow backend.\n",
      "/home/chandru4ni/python-environments/qc/local/lib/python3.6/site-packages/tensorflow/python/framework/dtypes.py:516: FutureWarning: Passing (type, 1) or '1type' as a synonym of type is deprecated; in a future version of numpy, it will be understood as (type, (1,)) / '(1,)type'.\n",
      "  _np_qint8 = np.dtype([(\"qint8\", np.int8, 1)])\n",
      "/home/chandru4ni/python-environments/qc/local/lib/python3.6/site-packages/tensorflow/python/framework/dtypes.py:517: FutureWarning: Passing (type, 1) or '1type' as a synonym of type is deprecated; in a future version of numpy, it will be understood as (type, (1,)) / '(1,)type'.\n",
      "  _np_quint8 = np.dtype([(\"quint8\", np.uint8, 1)])\n",
      "/home/chandru4ni/python-environments/qc/local/lib/python3.6/site-packages/tensorflow/python/framework/dtypes.py:518: FutureWarning: Passing (type, 1) or '1type' as a synonym of type is deprecated; in a future version of numpy, it will be understood as (type, (1,)) / '(1,)type'.\n",
      "  _np_qint16 = np.dtype([(\"qint16\", np.int16, 1)])\n",
      "/home/chandru4ni/python-environments/qc/local/lib/python3.6/site-packages/tensorflow/python/framework/dtypes.py:519: FutureWarning: Passing (type, 1) or '1type' as a synonym of type is deprecated; in a future version of numpy, it will be understood as (type, (1,)) / '(1,)type'.\n",
      "  _np_quint16 = np.dtype([(\"quint16\", np.uint16, 1)])\n",
      "/home/chandru4ni/python-environments/qc/local/lib/python3.6/site-packages/tensorflow/python/framework/dtypes.py:520: FutureWarning: Passing (type, 1) or '1type' as a synonym of type is deprecated; in a future version of numpy, it will be understood as (type, (1,)) / '(1,)type'.\n",
      "  _np_qint32 = np.dtype([(\"qint32\", np.int32, 1)])\n",
      "/home/chandru4ni/python-environments/qc/local/lib/python3.6/site-packages/tensorflow/python/framework/dtypes.py:525: FutureWarning: Passing (type, 1) or '1type' as a synonym of type is deprecated; in a future version of numpy, it will be understood as (type, (1,)) / '(1,)type'.\n",
      "  np_resource = np.dtype([(\"resource\", np.ubyte, 1)])\n",
      "/home/chandru4ni/python-environments/qc/local/lib/python3.6/site-packages/tensorboard/compat/tensorflow_stub/dtypes.py:541: FutureWarning: Passing (type, 1) or '1type' as a synonym of type is deprecated; in a future version of numpy, it will be understood as (type, (1,)) / '(1,)type'.\n",
      "  _np_qint8 = np.dtype([(\"qint8\", np.int8, 1)])\n",
      "/home/chandru4ni/python-environments/qc/local/lib/python3.6/site-packages/tensorboard/compat/tensorflow_stub/dtypes.py:542: FutureWarning: Passing (type, 1) or '1type' as a synonym of type is deprecated; in a future version of numpy, it will be understood as (type, (1,)) / '(1,)type'.\n",
      "  _np_quint8 = np.dtype([(\"quint8\", np.uint8, 1)])\n",
      "/home/chandru4ni/python-environments/qc/local/lib/python3.6/site-packages/tensorboard/compat/tensorflow_stub/dtypes.py:543: FutureWarning: Passing (type, 1) or '1type' as a synonym of type is deprecated; in a future version of numpy, it will be understood as (type, (1,)) / '(1,)type'.\n",
      "  _np_qint16 = np.dtype([(\"qint16\", np.int16, 1)])\n",
      "/home/chandru4ni/python-environments/qc/local/lib/python3.6/site-packages/tensorboard/compat/tensorflow_stub/dtypes.py:544: FutureWarning: Passing (type, 1) or '1type' as a synonym of type is deprecated; in a future version of numpy, it will be understood as (type, (1,)) / '(1,)type'.\n",
      "  _np_quint16 = np.dtype([(\"quint16\", np.uint16, 1)])\n",
      "/home/chandru4ni/python-environments/qc/local/lib/python3.6/site-packages/tensorboard/compat/tensorflow_stub/dtypes.py:545: FutureWarning: Passing (type, 1) or '1type' as a synonym of type is deprecated; in a future version of numpy, it will be understood as (type, (1,)) / '(1,)type'.\n",
      "  _np_qint32 = np.dtype([(\"qint32\", np.int32, 1)])\n",
      "/home/chandru4ni/python-environments/qc/local/lib/python3.6/site-packages/tensorboard/compat/tensorflow_stub/dtypes.py:550: FutureWarning: Passing (type, 1) or '1type' as a synonym of type is deprecated; in a future version of numpy, it will be understood as (type, (1,)) / '(1,)type'.\n",
      "  np_resource = np.dtype([(\"resource\", np.ubyte, 1)])\n"
     ]
    }
   ],
   "source": [
    "import keras\n",
    "from matplotlib import pyplot as plt\n",
    "import numpy as np\n",
    "import gzip\n",
    "%matplotlib inline\n",
    "from keras.layers import Input,Conv2D,MaxPooling2D,UpSampling2D\n",
    "from keras.models import Model\n",
    "from keras.optimizers import RMSprop"
   ]
  },
  {
   "cell_type": "code",
   "execution_count": 2,
   "metadata": {
    "id": "uNs8xdYWPXMC"
   },
   "outputs": [],
   "source": [
    "def extract_data(filename, num_images):\n",
    "    with gzip.open(filename) as bytestream:\n",
    "        bytestream.read(16)\n",
    "        buf = bytestream.read(28 * 28 * num_images)\n",
    "        data = np.frombuffer(buf, dtype=np.uint8).astype(np.float32)\n",
    "        data = data.reshape(num_images, 28,28)\n",
    "        return data"
   ]
  },
  {
   "cell_type": "markdown",
   "metadata": {},
   "source": [
    "## Download the data set from https://github.com/golbin/TensorFlow-MNIST/tree/master/mnist/data"
   ]
  },
  {
   "cell_type": "code",
   "execution_count": 3,
   "metadata": {
    "colab": {
     "base_uri": "https://localhost:8080/",
     "height": 323
    },
    "id": "8aTYEfYFPb7C",
    "outputId": "2a29ecec-fee3-4195-ff04-ac584fb369ef"
   },
   "outputs": [],
   "source": [
    "train_data = extract_data('train-images-idx3-ubyte.gz', 60000)\n",
    "test_data = extract_data('t10k-images-idx3-ubyte.gz', 10000)"
   ]
  },
  {
   "cell_type": "code",
   "execution_count": null,
   "metadata": {
    "id": "QPqGBsatpDD2"
   },
   "outputs": [],
   "source": []
  },
  {
   "cell_type": "code",
   "execution_count": 4,
   "metadata": {
    "colab": {
     "base_uri": "https://localhost:8080/",
     "height": 51
    },
    "id": "rHO59hUQPfHt",
    "outputId": "00376203-f1bd-4098-b9af-f914bb6f0049"
   },
   "outputs": [],
   "source": [
    "import numpy as np\n",
    "# Import the numpy library\n",
    "import matplotlib.pyplot as plt\n",
    "# Import the matplotlib library for plotting\n",
    "from keras.datasets import mnist\n",
    "# from the Keras library MNIST data set is used in the example\n",
    "from keras.layers import Input, Dense, Conv2D, MaxPooling2D, UpSampling2D\n",
    "# import various libraries from Keras\n",
    "from keras.models import Model\n",
    "from keras import backend as K\n",
    "#Load the required MNSIT Dataset\n",
    "(x_train, _), (x_test, _) = mnist.load_data()"
   ]
  },
  {
   "cell_type": "code",
   "execution_count": 5,
   "metadata": {
    "id": "eIw0OKwyP-Gp"
   },
   "outputs": [],
   "source": [
    "#Scale-up of the Dataset values to lie between 0 and 1\n",
    "x_train = x_train.astype('float32') / 255.\n",
    "x_test = x_test.astype('float32') / 255.\n",
    "# Reshapre the numpy arrays to meet the 28 X 28 Matrix\n",
    "x_train = np.reshape(x_train, (len(x_train), 28, 28, 1))\n",
    "x_test = np.reshape(x_test, (len(x_test), 28, 28, 1))"
   ]
  },
  {
   "cell_type": "code",
   "execution_count": null,
   "metadata": {
    "id": "UnR-x4tAQbTX"
   },
   "outputs": [],
   "source": []
  },
  {
   "cell_type": "code",
   "execution_count": 6,
   "metadata": {
    "id": "zajbg38QRT2x"
   },
   "outputs": [],
   "source": [
    "# Add Noise factor(can be varied in the range of 0.2 to 0.5) on the previously downloaded MNIST dataset.\n",
    "# By using np.random.normal() sampling random values from Gaussian distribution can be done and finally \n",
    "# adding it to our original images to change pixel values\n",
    "noise_factor = 0.3\n",
    "x_train_noisy = x_train + noise_factor * np.random.normal(loc=0.0, scale=1.0, size=x_train.shape)\n",
    "x_test_noisy = x_test + noise_factor * np.random.normal(loc=0.0, scale=1.0, size=x_test.shape)\n",
    "x_train_noisy = np.clip(x_train_noisy, 0., 1.)\n",
    "x_test_noisy = np.clip(x_test_noisy, 0., 1.)"
   ]
  },
  {
   "cell_type": "code",
   "execution_count": 7,
   "metadata": {
    "colab": {
     "base_uri": "https://localhost:8080/",
     "height": 145
    },
    "id": "9f1f6OL3RWG4",
    "outputId": "5dc12658-04e8-416e-bfc2-ae4bd8bd5e02"
   },
   "outputs": [
    {
     "data": {
      "image/png": "[encoded data removed]",
      "text/plain": [
       "<Figure size 1440x144 with 10 Axes>"
      ]
     },
     "metadata": {
      "needs_background": "light"
     },
     "output_type": "display_data"
    }
   ],
   "source": [
    "#Visualising the Noisy Digits using Matplotlib\n",
    "n = 10\n",
    "#This number can be changed to visualise more digits if required\n",
    "# Plotting all the digits along with the noise for consideration\n",
    "plt.figure(figsize=(20, 2))\n",
    "for i in range(n):\n",
    "  ax = plt.subplot(1, n, i+1)\n",
    "  plt.imshow(x_test_noisy[i].reshape(28, 28))\n",
    "  plt.gray()\n",
    "ax.get_xaxis().set_visible(False)\n",
    "ax.get_yaxis().set_visible(False)\n",
    "plt.show()"
   ]
  },
  {
   "cell_type": "code",
   "execution_count": 8,
   "metadata": {
    "id": "FwBb1l97RYAs"
   },
   "outputs": [
    {
     "name": "stderr",
     "output_type": "stream",
     "text": [
      "WARNING: Logging before flag parsing goes to stderr.\n",
      "W0904 14:38:09.465522 140079318816576 deprecation_wrapper.py:119] From /home/chandru4ni/python-environments/qc/local/lib/python3.6/site-packages/keras/backend/tensorflow_backend.py:74: The name tf.get_default_graph is deprecated. Please use tf.compat.v1.get_default_graph instead.\n",
      "\n",
      "W0904 14:38:10.304757 140079318816576 deprecation_wrapper.py:119] From /home/chandru4ni/python-environments/qc/local/lib/python3.6/site-packages/keras/backend/tensorflow_backend.py:517: The name tf.placeholder is deprecated. Please use tf.compat.v1.placeholder instead.\n",
      "\n"
     ]
    }
   ],
   "source": [
    "# Start building the input layer\n",
    "# Now Specify the Input Layer size which in our case is 28x28x1\n",
    "input_img = Input(shape=(28, 28, 1))"
   ]
  },
  {
   "cell_type": "code",
   "execution_count": 9,
   "metadata": {
    "id": "s4xL0PuKTOxC"
   },
   "outputs": [
    {
     "name": "stderr",
     "output_type": "stream",
     "text": [
      "W0904 14:38:12.424250 140079318816576 deprecation_wrapper.py:119] From /home/chandru4ni/python-environments/qc/local/lib/python3.6/site-packages/keras/backend/tensorflow_backend.py:4138: The name tf.random_uniform is deprecated. Please use tf.random.uniform instead.\n",
      "\n",
      "W0904 14:38:12.945051 140079318816576 deprecation_wrapper.py:119] From /home/chandru4ni/python-environments/qc/local/lib/python3.6/site-packages/keras/backend/tensorflow_backend.py:3976: The name tf.nn.max_pool is deprecated. Please use tf.nn.max_pool2d instead.\n",
      "\n",
      "W0904 14:38:13.089746 140079318816576 deprecation_wrapper.py:119] From /home/chandru4ni/python-environments/qc/local/lib/python3.6/site-packages/keras/backend/tensorflow_backend.py:2018: The name tf.image.resize_nearest_neighbor is deprecated. Please use tf.compat.v1.image.resize_nearest_neighbor instead.\n",
      "\n",
      "W0904 14:38:13.200009 140079318816576 deprecation_wrapper.py:119] From /home/chandru4ni/python-environments/qc/local/lib/python3.6/site-packages/keras/optimizers.py:790: The name tf.train.Optimizer is deprecated. Please use tf.compat.v1.train.Optimizer instead.\n",
      "\n",
      "W0904 14:38:13.227629 140079318816576 deprecation_wrapper.py:119] From /home/chandru4ni/python-environments/qc/local/lib/python3.6/site-packages/keras/backend/tensorflow_backend.py:3376: The name tf.log is deprecated. Please use tf.math.log instead.\n",
      "\n",
      "W0904 14:38:13.238483 140079318816576 deprecation.py:323] From /home/chandru4ni/python-environments/qc/local/lib/python3.6/site-packages/tensorflow/python/ops/nn_impl.py:180: add_dispatch_support.<locals>.wrapper (from tensorflow.python.ops.array_ops) is deprecated and will be removed in a future version.\n",
      "Instructions for updating:\n",
      "Use tf.where in 2.0, which has the same broadcast rule as np.where\n"
     ]
    }
   ],
   "source": [
    "# Model Construction with Conv2D keras library along with padding done.\n",
    "# Relu activation function is used through out in all the layers\n",
    "x = Conv2D(32, (3, 3), activation='relu', padding='same')(input_img)\n",
    "# add max poling layer\n",
    "x = MaxPooling2D((2, 2), padding='same')(x)\n",
    "x = Conv2D(32, (3, 3), activation='relu', padding='same')(x)\n",
    "encoded = MaxPooling2D((2, 2), padding='same')(x)\n",
    "# At this point the representation is (7, 7, 32)\n",
    "x = Conv2D(32, (3, 3), activation='relu', padding='same')(encoded)\n",
    "x = UpSampling2D((2, 2))(x)\n",
    "x = Conv2D(32, (3, 3), activation='relu', padding='same')(x)\n",
    "x = UpSampling2D((2, 2))(x)\n",
    "# following are the decoder and encoder constructs with sigmoid activation and adam optimizers\n",
    "decoded = Conv2D(1, (3, 3), activation='sigmoid', padding='same')(x)\n",
    "autoencoder = Model(input_img, decoded)\n",
    "autoencoder.compile(optimizer='adam', loss='binary_crossentropy')"
   ]
  },
  {
   "cell_type": "code",
   "execution_count": 10,
   "metadata": {
    "colab": {
     "base_uri": "https://localhost:8080/",
     "height": 884
    },
    "id": "sitcmdPNTWZv",
    "outputId": "c0d845e0-a3ae-4332-f517-0e3a232f7171"
   },
   "outputs": [
    {
     "name": "stderr",
     "output_type": "stream",
     "text": [
      "W0904 14:38:25.222495 140079318816576 deprecation_wrapper.py:119] From /home/chandru4ni/python-environments/qc/local/lib/python3.6/site-packages/keras/backend/tensorflow_backend.py:986: The name tf.assign_add is deprecated. Please use tf.compat.v1.assign_add instead.\n",
      "\n"
     ]
    },
    {
     "name": "stdout",
     "output_type": "stream",
     "text": [
      "Train on 60000 samples, validate on 10000 samples\n",
      "Epoch 1/25\n",
      "60000/60000 [==============================] - 127s 2ms/step - loss: 0.1341 - val_loss: 0.0922\n",
      "Epoch 2/25\n",
      "60000/60000 [==============================] - 118s 2ms/step - loss: 0.0898 - val_loss: 0.0863\n",
      "Epoch 3/25\n",
      "60000/60000 [==============================] - 118s 2ms/step - loss: 0.0858 - val_loss: 0.0838\n",
      "Epoch 4/25\n",
      "60000/60000 [==============================] - 4260s 71ms/step - loss: 0.0838 - val_loss: 0.0824\n",
      "Epoch 5/25\n",
      "60000/60000 [==============================] - 126s 2ms/step - loss: 0.0824 - val_loss: 0.0812\n",
      "Epoch 6/25\n",
      "60000/60000 [==============================] - 157s 3ms/step - loss: 0.0814 - val_loss: 0.0803\n",
      "Epoch 7/25\n",
      "60000/60000 [==============================] - 150s 3ms/step - loss: 0.0806 - val_loss: 0.0801\n",
      "Epoch 8/25\n",
      "60000/60000 [==============================] - 149s 2ms/step - loss: 0.0801 - val_loss: 0.0792\n",
      "Epoch 9/25\n",
      "60000/60000 [==============================] - 137s 2ms/step - loss: 0.0796 - val_loss: 0.0788\n",
      "Epoch 10/25\n",
      "60000/60000 [==============================] - 124s 2ms/step - loss: 0.0792 - val_loss: 0.0786\n",
      "Epoch 11/25\n",
      "60000/60000 [==============================] - 159s 3ms/step - loss: 0.0789 - val_loss: 0.0785\n",
      "Epoch 12/25\n",
      "60000/60000 [==============================] - 150s 2ms/step - loss: 0.0786 - val_loss: 0.0780\n",
      "Epoch 13/25\n",
      "60000/60000 [==============================] - 125s 2ms/step - loss: 0.0784 - val_loss: 0.0779\n",
      "Epoch 14/25\n",
      "60000/60000 [==============================] - 140s 2ms/step - loss: 0.0781 - val_loss: 0.0776\n",
      "Epoch 15/25\n",
      "60000/60000 [==============================] - 122s 2ms/step - loss: 0.0780 - val_loss: 0.0774\n",
      "Epoch 16/25\n",
      "60000/60000 [==============================] - 103s 2ms/step - loss: 0.0778 - val_loss: 0.0773\n",
      "Epoch 17/25\n",
      "60000/60000 [==============================] - 103s 2ms/step - loss: 0.0777 - val_loss: 0.0772\n",
      "Epoch 18/25\n",
      "60000/60000 [==============================] - 123s 2ms/step - loss: 0.0776 - val_loss: 0.0772\n",
      "Epoch 19/25\n",
      "60000/60000 [==============================] - 142s 2ms/step - loss: 0.0775 - val_loss: 0.0770\n",
      "Epoch 20/25\n",
      "60000/60000 [==============================] - 151s 3ms/step - loss: 0.0774 - val_loss: 0.0774\n",
      "Epoch 21/25\n",
      "60000/60000 [==============================] - 112s 2ms/step - loss: 0.0772 - val_loss: 0.0769\n",
      "Epoch 22/25\n",
      "60000/60000 [==============================] - 102s 2ms/step - loss: 0.0772 - val_loss: 0.0769\n",
      "Epoch 23/25\n",
      "60000/60000 [==============================] - 102s 2ms/step - loss: 0.0771 - val_loss: 0.0769\n",
      "Epoch 24/25\n",
      "60000/60000 [==============================] - 106s 2ms/step - loss: 0.0771 - val_loss: 0.0767\n",
      "Epoch 25/25\n",
      "60000/60000 [==============================] - 105s 2ms/step - loss: 0.0770 - val_loss: 0.0766\n"
     ]
    },
    {
     "data": {
      "text/plain": [
       "<keras.callbacks.History at 0x7f6664ce46a0>"
      ]
     },
     "execution_count": 10,
     "metadata": {},
     "output_type": "execute_result"
    }
   ],
   "source": [
    "# With around 25-100 epochs, and with batch_size of 128 train the model with suffling enabled.\n",
    "autoencoder.fit(x_train_noisy, x_train,\n",
    "epochs=25,\n",
    "batch_size=128,\n",
    "shuffle=True,\n",
    "validation_data=(x_test_noisy, x_test),\n",
    ")"
   ]
  },
  {
   "cell_type": "code",
   "execution_count": 11,
   "metadata": {
    "colab": {
     "base_uri": "https://localhost:8080/",
     "height": 145
    },
    "id": "tFK5NeynT2Uq",
    "outputId": "4bf66e88-4ae6-4fb9-f764-e61b6bb500a8"
   },
   "outputs": [
    {
     "data": {
      "image/png": "[encoded data removed]",
      "text/plain": [
       "<Figure size 1440x144 with 10 Axes>"
      ]
     },
     "metadata": {
      "needs_background": "light"
     },
     "output_type": "display_data"
    }
   ],
   "source": [
    "#Visualising the Digits using Matplotlib after it is trained and the noise is removed.\n",
    "n = 10\n",
    "# change this number to visualise more digits.\n",
    "plt.figure(figsize=(20, 2))\n",
    "for i in range(n):\n",
    "  ax = plt.subplot(1, n, i+1)\n",
    "  plt.imshow(x_test[i].reshape(28, 28))\n",
    "  plt.gray()\n",
    "ax.get_xaxis().set_visible(False)\n",
    "ax.get_yaxis().set_visible(False)\n",
    "plt.show()"
   ]
  },
  {
   "cell_type": "code",
   "execution_count": 12,
   "metadata": {
    "colab": {
     "base_uri": "https://localhost:8080/",
     "height": 17
    },
    "id": "Adrrc--XfbOX",
    "outputId": "a3a9eb3a-e6cf-42fa-8d44-24ed287b6282"
   },
   "outputs": [
    {
     "data": {
      "text/html": [
       "<style>\n",
       "blockquote { background: #AEDE94; }\n",
       "h1 { \n",
       "    padding-top: 25px;\n",
       "    padding-bottom: 25px;\n",
       "    text-align: left; \n",
       "    padding-left: 10px;\n",
       "    background-color: #DDDDDD; \n",
       "    color: black;\n",
       "}\n",
       "h2 { \n",
       "    padding-top: 10px;\n",
       "    padding-bottom: 10px;\n",
       "    text-align: left; \n",
       "    padding-left: 5px;\n",
       "    background-color: #EEEEEE; \n",
       "    color: black;\n",
       "}\n",
       "\n",
       "div.exercise {\n",
       "\tbackground-color: #ffcccc;\n",
       "\tborder-color: #E9967A; \t\n",
       "\tborder-left: 5px solid #800080; \n",
       "\tpadding: 0.5em;\n",
       "}\n",
       "div.discussion {\n",
       "\tbackground-color: #ccffcc;\n",
       "\tborder-color: #88E97A;\n",
       "\tborder-left: 5px solid #0A8000; \n",
       "\tpadding: 0.5em;\n",
       "}\n",
       "div.theme {\n",
       "\tbackground-color: #DDDDDD;\n",
       "\tborder-color: #E9967A; \t\n",
       "\tborder-left: 5px solid #800080; \n",
       "\tpadding: 0.5em;\n",
       "\tfont-size: 18pt;\n",
       "}\n",
       "div.gc { \n",
       "\tbackground-color: #AEDE94;\n",
       "\tborder-color: #E9967A; \t \n",
       "\tborder-left: 5px solid #800080; \n",
       "\tpadding: 0.5em;\n",
       "\tfont-size: 12pt;\n",
       "}\n",
       "p.q1 { \n",
       "    padding-top: 5px;\n",
       "    padding-bottom: 5px;\n",
       "    text-align: left; \n",
       "    padding-left: 5px;\n",
       "    background-color: #EEEEEE; \n",
       "    color: black;\n",
       "}\n",
       "header {\n",
       "   padding-top: 35px;\n",
       "    padding-bottom: 35px;\n",
       "    text-align: left; \n",
       "    padding-left: 10px;\n",
       "    background-color: #DDDDDD; \n",
       "    color: black;\n",
       "}\n",
       "</style>\n",
       "\n"
      ],
      "text/plain": [
       "<IPython.core.display.HTML object>"
      ]
     },
     "execution_count": 12,
     "metadata": {},
     "output_type": "execute_result"
    }
   ],
   "source": [
    "## RUN THIS CELL TO PROPERLY HIGHLIGHT THE EXERCISES\n",
    "import requests\n",
    "from IPython.core.display import HTML\n",
    "styles = requests.get(\"https://raw.githubusercontent.com/Harvard-IACS/2019-CS109B/master/content/styles/cs109.css\").text\n",
    "HTML(styles)"
   ]
  },
  {
   "cell_type": "code",
   "execution_count": 13,
   "metadata": {
    "id": "-ar3mxGfV3iP"
   },
   "outputs": [],
   "source": [
    "import matplotlib.pyplot as plt\n",
    "import numpy as np\n",
    "from scipy.optimize import minimize\n",
    "\n",
    "%matplotlib inline"
   ]
  },
  {
   "cell_type": "code",
   "execution_count": 14,
   "metadata": {
    "colab": {
     "base_uri": "https://localhost:8080/",
     "height": 34
    },
    "id": "dgN8ISmgV_9v",
    "outputId": "a15b358b-07ec-41ba-f5e9-f77322442383"
   },
   "outputs": [
    {
     "name": "stdout",
     "output_type": "stream",
     "text": [
      "2.2.4-tf\n"
     ]
    }
   ],
   "source": [
    "import tensorflow as tf\n",
    "import keras\n",
    "from keras import layers\n",
    "from keras import models\n",
    "from keras import utils\n",
    "from keras.layers import Dense\n",
    "from keras.models import Sequential\n",
    "from keras.layers import Flatten\n",
    "from keras.layers import Dropout\n",
    "from keras.layers import Activation\n",
    "from keras.regularizers import l2\n",
    "from keras.optimizers import SGD\n",
    "from keras.optimizers import RMSprop\n",
    "from keras import datasets\n",
    "\n",
    "from keras.callbacks import LearningRateScheduler\n",
    "from keras.callbacks import History\n",
    "\n",
    "from keras import losses\n",
    "from sklearn.utils import shuffle\n",
    "\n",
    "#print(tf.VERSION)\n",
    "print(tf.keras.__version__)"
   ]
  },
  {
   "cell_type": "code",
   "execution_count": 15,
   "metadata": {
    "colab": {
     "base_uri": "https://localhost:8080/",
     "height": 68
    },
    "id": "GvzSWkMnWGXz",
    "outputId": "5085a02b-5105-4b06-cefe-1da6725978d5"
   },
   "outputs": [
    {
     "data": {
      "text/plain": [
       "((60000, 28, 28), (60000,))"
      ]
     },
     "execution_count": 15,
     "metadata": {},
     "output_type": "execute_result"
    }
   ],
   "source": [
    "#mnist = tf.keras.datasets.mnist\n",
    "mnist = keras.datasets.mnist\n",
    "(x_train, y_train),(x_test, y_test) = mnist.load_data()\n",
    "x_train.shape, y_train.shape"
   ]
  },
  {
   "cell_type": "code",
   "execution_count": 16,
   "metadata": {
    "colab": {
     "base_uri": "https://localhost:8080/",
     "height": 251
    },
    "id": "DjNHEHmmWPQt",
    "outputId": "f7d5c271-6d56-4eaa-b04a-6226f87256e1"
   },
   "outputs": [
    {
     "data": {
      "image/png": "[encoded data removed]",
      "text/plain": [
       "<Figure size 720x720 with 10 Axes>"
      ]
     },
     "metadata": {},
     "output_type": "display_data"
    }
   ],
   "source": [
    "plt.figure(figsize=(10,10))\n",
    "for i in range(10):\n",
    "    plt.subplot(5,5,i+1)\n",
    "    plt.xticks([])\n",
    "    plt.yticks([])\n",
    "    plt.grid(False)\n",
    "    plt.imshow(x_train[i], cmap=plt.cm.binary)\n",
    "    plt.xlabel(y_train[i])"
   ]
  },
  {
   "cell_type": "code",
   "execution_count": null,
   "metadata": {
    "id": "aL44d8-uWTYF"
   },
   "outputs": [],
   "source": []
  }
 ],
 "metadata": {
  "accelerator": "GPU",
  "colab": {
   "collapsed_sections": [],
   "name": "Copy of Untitled18.ipynb",
   "provenance": []
  },
  "kernelspec": {
   "display_name": "Python 3",
   "language": "python",
   "name": "python3"
  },
  "language_info": {
   "codemirror_mode": {
    "name": "ipython",
    "version": 3
   },
   "file_extension": ".py",
   "mimetype": "text/x-python",
   "name": "python",
   "nbconvert_exporter": "python",
   "pygments_lexer": "ipython3",
   "version": "3.6.7"
  }
 },
 "nbformat": 4,
 "nbformat_minor": 1
}
