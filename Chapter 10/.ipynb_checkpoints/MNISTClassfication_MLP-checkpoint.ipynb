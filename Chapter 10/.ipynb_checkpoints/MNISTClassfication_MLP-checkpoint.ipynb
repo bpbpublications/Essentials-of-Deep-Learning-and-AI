{
 "cells": [
  {
   "cell_type": "markdown",
   "metadata": {},
   "source": [
    "# Classification of handwritten digits using MLP method. \n",
    "Tensorflow and Keras frameworks are used for implementation and MNIST data set from Keras is used for training, testing and validation of model. The model is built with two hidden layers of 256 and 64 neurons, with reLU activation function, and cross entropy as the loss function. The model achieves a training accuracy of 98% and testing accuracy of 97% with hyper parameter, learning rate set to 0.001. The python program is given below."
   ]
  },
  {
   "cell_type": "code",
   "execution_count": 1,
   "metadata": {},
   "outputs": [
    {
     "name": "stderr",
     "output_type": "stream",
     "text": [
      "Using TensorFlow backend.\n",
      "/home/chandru4ni/python-environments/qc/local/lib/python3.6/site-packages/tensorflow/python/framework/dtypes.py:516: FutureWarning: Passing (type, 1) or '1type' as a synonym of type is deprecated; in a future version of numpy, it will be understood as (type, (1,)) / '(1,)type'.\n",
      "  _np_qint8 = np.dtype([(\"qint8\", np.int8, 1)])\n",
      "/home/chandru4ni/python-environments/qc/local/lib/python3.6/site-packages/tensorflow/python/framework/dtypes.py:517: FutureWarning: Passing (type, 1) or '1type' as a synonym of type is deprecated; in a future version of numpy, it will be understood as (type, (1,)) / '(1,)type'.\n",
      "  _np_quint8 = np.dtype([(\"quint8\", np.uint8, 1)])\n",
      "/home/chandru4ni/python-environments/qc/local/lib/python3.6/site-packages/tensorflow/python/framework/dtypes.py:518: FutureWarning: Passing (type, 1) or '1type' as a synonym of type is deprecated; in a future version of numpy, it will be understood as (type, (1,)) / '(1,)type'.\n",
      "  _np_qint16 = np.dtype([(\"qint16\", np.int16, 1)])\n",
      "/home/chandru4ni/python-environments/qc/local/lib/python3.6/site-packages/tensorflow/python/framework/dtypes.py:519: FutureWarning: Passing (type, 1) or '1type' as a synonym of type is deprecated; in a future version of numpy, it will be understood as (type, (1,)) / '(1,)type'.\n",
      "  _np_quint16 = np.dtype([(\"quint16\", np.uint16, 1)])\n",
      "/home/chandru4ni/python-environments/qc/local/lib/python3.6/site-packages/tensorflow/python/framework/dtypes.py:520: FutureWarning: Passing (type, 1) or '1type' as a synonym of type is deprecated; in a future version of numpy, it will be understood as (type, (1,)) / '(1,)type'.\n",
      "  _np_qint32 = np.dtype([(\"qint32\", np.int32, 1)])\n",
      "/home/chandru4ni/python-environments/qc/local/lib/python3.6/site-packages/tensorflow/python/framework/dtypes.py:525: FutureWarning: Passing (type, 1) or '1type' as a synonym of type is deprecated; in a future version of numpy, it will be understood as (type, (1,)) / '(1,)type'.\n",
      "  np_resource = np.dtype([(\"resource\", np.ubyte, 1)])\n",
      "/home/chandru4ni/python-environments/qc/local/lib/python3.6/site-packages/tensorboard/compat/tensorflow_stub/dtypes.py:541: FutureWarning: Passing (type, 1) or '1type' as a synonym of type is deprecated; in a future version of numpy, it will be understood as (type, (1,)) / '(1,)type'.\n",
      "  _np_qint8 = np.dtype([(\"qint8\", np.int8, 1)])\n",
      "/home/chandru4ni/python-environments/qc/local/lib/python3.6/site-packages/tensorboard/compat/tensorflow_stub/dtypes.py:542: FutureWarning: Passing (type, 1) or '1type' as a synonym of type is deprecated; in a future version of numpy, it will be understood as (type, (1,)) / '(1,)type'.\n",
      "  _np_quint8 = np.dtype([(\"quint8\", np.uint8, 1)])\n",
      "/home/chandru4ni/python-environments/qc/local/lib/python3.6/site-packages/tensorboard/compat/tensorflow_stub/dtypes.py:543: FutureWarning: Passing (type, 1) or '1type' as a synonym of type is deprecated; in a future version of numpy, it will be understood as (type, (1,)) / '(1,)type'.\n",
      "  _np_qint16 = np.dtype([(\"qint16\", np.int16, 1)])\n",
      "/home/chandru4ni/python-environments/qc/local/lib/python3.6/site-packages/tensorboard/compat/tensorflow_stub/dtypes.py:544: FutureWarning: Passing (type, 1) or '1type' as a synonym of type is deprecated; in a future version of numpy, it will be understood as (type, (1,)) / '(1,)type'.\n",
      "  _np_quint16 = np.dtype([(\"quint16\", np.uint16, 1)])\n",
      "/home/chandru4ni/python-environments/qc/local/lib/python3.6/site-packages/tensorboard/compat/tensorflow_stub/dtypes.py:545: FutureWarning: Passing (type, 1) or '1type' as a synonym of type is deprecated; in a future version of numpy, it will be understood as (type, (1,)) / '(1,)type'.\n",
      "  _np_qint32 = np.dtype([(\"qint32\", np.int32, 1)])\n",
      "/home/chandru4ni/python-environments/qc/local/lib/python3.6/site-packages/tensorboard/compat/tensorflow_stub/dtypes.py:550: FutureWarning: Passing (type, 1) or '1type' as a synonym of type is deprecated; in a future version of numpy, it will be understood as (type, (1,)) / '(1,)type'.\n",
      "  np_resource = np.dtype([(\"resource\", np.ubyte, 1)])\n"
     ]
    }
   ],
   "source": [
    "## Importing required libraries\n",
    "import keras\n",
    "from sklearn.preprocessing import LabelBinarizer\n",
    "import matplotlib.pyplot as plt\n",
    "import numpy as np\n",
    "import tensorflow as tf\n",
    "from sklearn.metrics import accuracy_score\n",
    "\n"
   ]
  },
  {
   "cell_type": "code",
   "execution_count": 2,
   "metadata": {},
   "outputs": [],
   "source": [
    "# Load the MNIST dataset from Keras for training and testing\n",
    "(Xtrain, ytrain), (Xtest, ytest) = keras.datasets.mnist.load_data()\n",
    "\n",
    "# normalize the input data samples\n",
    "Xtrain = Xtrain.astype(float) / 255.\n",
    "Xtest = Xtest.astype(float) / 255.\n",
    "\n",
    "# Split the training samples into training and validation samples\n",
    "Xtrain, Xval = Xtrain[:-10000], Xtrain[-10000:]\n",
    "ytrain, yval = ytrain[:-10000], ytrain[-10000:]\n",
    "\n",
    "# Changing dimension of training input images from N*28*28 to  N*784, flatten the input size to feed to MLP\n",
    "Xtrain = Xtrain.reshape((Xtrain.shape[0],Xtrain.shape[1]*Xtrain.shape[2]))\n",
    "\n",
    "## Changing dimension of testing input images from N*28*28 to  N*784, flatten the input size to feed to MLP\n",
    "Xtest = Xtest.reshape((Xtest.shape[0],Xtest.shape[1]*Xtest.shape[2]))\n",
    "\n"
   ]
  },
  {
   "cell_type": "code",
   "execution_count": 3,
   "metadata": {},
   "outputs": [
    {
     "name": "stdout",
     "output_type": "stream",
     "text": [
      "Training samples dimension:\n",
      "(50000, 784)\n",
      "Testing samples  dimension:\n",
      "(10000, 784)\n",
      "Training samples labels dimension:\n",
      "(50000, 10)\n",
      "Testing samples labels dimension:\n",
      "(10000, 10)\n"
     ]
    }
   ],
   "source": [
    "# Changing labels to one-hot encoded vector\n",
    "labelM = LabelBinarizer()\n",
    "ytrain = labelM.fit_transform(ytrain)\n",
    "ytest = labelM.transform(ytest)\n",
    "\n",
    "print('Training samples dimension:');\n",
    "print(Xtrain.shape)\n",
    "print('Testing samples  dimension:');\n",
    "print(Xtest.shape)\n",
    "print('Training samples labels dimension:');\n",
    "print(ytrain.shape)\n",
    "print('Testing samples labels dimension:');\n",
    "print(ytest.shape)\n",
    "\n",
    "s = tf.InteractiveSession()\n",
    "\n"
   ]
  },
  {
   "cell_type": "code",
   "execution_count": 4,
   "metadata": {},
   "outputs": [],
   "source": [
    "# Model architecture\n",
    "# input layer 784\n",
    "# First hidden layer - 256 neurons\n",
    "# Second hidden layer - 64 neurons\n",
    "# Final layer output - 10\n",
    "numClasses = ytrain.shape[1]\n",
    "numFeatures = Xtrain.shape[1]\n",
    "numOutput = ytrain.shape[1]\n",
    "\n",
    "numLayers_0 = 256\n",
    "numLayers_1 = 64\n",
    "\n",
    "# Define the hyper parameters, learning rate and regularizer\n",
    "starterLearningRate = 0.001\n",
    "regularizerRate = 0.1\n",
    "\n",
    "# Placeholders for the input data\n",
    "inputX = tf.placeholder('float32',shape =(None,numFeatures),name=\"inputX\")\n",
    "inputy = tf.placeholder('float32',shape = (None, numClasses),name='inputY')\n",
    "\n",
    "## for dropout layer\n",
    "keepProb = tf.placeholder(tf.float32)\n",
    "\n"
   ]
  },
  {
   "cell_type": "code",
   "execution_count": 12,
   "metadata": {},
   "outputs": [
    {
     "name": "stdout",
     "output_type": "stream",
     "text": [
      "<class 'tensorflow.python.ops.variables.RefVariable'> (784, 256)\n",
      "<class 'tensorflow.python.ops.variables.RefVariable'> (256,)\n"
     ]
    }
   ],
   "source": [
    "# Initialize the weights and bias for layer 1 with random values using He-et-al initialization\n",
    "temp = np.random.randn(numFeatures, numLayers_0) * np.sqrt(2/numFeatures)\n",
    "temp = temp.astype(np.float32)\n",
    "weights_0 = tf.Variable(temp)\n",
    "\n",
    "temp = np.random.random_sample((numLayers_0))\n",
    "temp = temp.astype(np.float32)\n",
    "bias_0 = tf.Variable(temp)\n",
    "\n",
    "print (type(weights_0), weights_0.shape)\n",
    "print (type(bias_0), bias_0.shape)\n",
    "\n",
    "# Initialize the weights and bias for layer 2 with random values using He-et-al initialization\n",
    "temp = np.random.randn(numLayers_0, numLayers_1) * np.sqrt(2/numLayers_0)\n",
    "temp = temp.astype(np.float32)\n",
    "weights_1 = tf.Variable(temp)\n",
    "\n",
    "temp = np.random.random_sample((numLayers_1))\n",
    "temp = temp.astype(np.float32)\n",
    "bias_1 = tf.Variable(temp)\n",
    "\n",
    "# Initialize the weights and bias for final layer with random values using He-et-al initialization\n",
    "temp = np.random.randn(numLayers_1, numOutput) * np.sqrt(2/numLayers_1)\n",
    "temp = temp.astype(np.float32)\n",
    "weights_2 = tf.Variable(temp)\n",
    "\n",
    "temp = np.random.random_sample((numOutput))\n",
    "temp = temp.astype(np.float32)\n",
    "bias_2 = tf.Variable(temp)\n",
    "\n",
    "## Initializing weigths and biases and define activation function and dropout \n",
    "hiddenOutput_0 = tf.nn.relu(tf.matmul(inputX,weights_0)+bias_0)\n",
    "hiddenOutput_0_0 = tf.nn.dropout(hiddenOutput_0, keepProb)\n",
    "hiddenOutput_1 = tf.nn.relu(tf.matmul(hiddenOutput_0_0,weights_1)+bias_1)\n",
    "hiddenOutput_1_1 = tf.nn.dropout(hiddenOutput_1, keepProb)\n",
    "predictedy = tf.sigmoid(tf.matmul(hiddenOutput_1_1,weights_2) + bias_2)\n",
    "\n",
    "## Defining the loss function, here softmax cross entropy is used\n",
    "loss = tf.reduce_mean( tf.nn.softmax_cross_entropy_with_logits_v2 (logits=predictedy, labels=inputy))\n",
    "+ regularizerRate * \t(tf.reduce_sum(tf.square(bias_0)) + tf.reduce_sum(tf.square(bias_1)))\n",
    "\n",
    "## Variable learning rate\n",
    "learningRate = tf.train.exponential_decay(starterLearningRate, 0, 5, 0.85, staircase=True)\n",
    "\n",
    "## Adam optimzer for finding the right weight\n",
    "optimizer = tf.train.AdamOptimizer( learningRate ).minimize( loss,var_list = [ weights_0, weights_1, weights_2, bias_0,bias_1,bias_2])\n",
    "\n",
    "## Metrics definition\n",
    "correctPrediction = tf.equal(tf.argmax(ytrain, 1), tf.argmax( predictedy, 1))\n",
    "accuracyScore = tf.reduce_mean(tf.cast(correctPrediction, tf.float32))\n",
    "\n"
   ]
  },
  {
   "cell_type": "code",
   "execution_count": 14,
   "metadata": {},
   "outputs": [],
   "source": [
    "## Training parameters\n",
    "batchSize = 64\n",
    "epochs=14\n",
    "dropoutProb = 0.5\n",
    "trainingAccuracy = []\n",
    "trainingLoss = []\n",
    "testingAccuracy = []\n",
    "s.run(tf.global_variables_initializer())\n",
    "\n",
    "for epoch in range(epochs):\n",
    "    arr = np.arange(Xtrain.shape[0])\n",
    "    np.random.shuffle(arr)\n",
    "\n",
    "    for index in range(0, Xtrain.shape[0], batchSize):\n",
    "        s.run(optimizer, {inputX: Xtrain[arr[index:index + batchSize]],\n",
    "                          inputy: ytrain[arr[index:index + batchSize ]],\n",
    "                        keepProb:dropoutProb})\n",
    "\n",
    "    trainingAccuracy.append(s.run(accuracy, feed_dict= {inputX:Xtrain,\n",
    "                                                         inputy: ytrain, keepProb:1}))\n",
    "\n",
    "    trainingLoss.append(s.run(loss, {inputX: Xtrain,\n",
    "                                      inputy: ytrain, keepProb:1}))\n",
    "\n",
    "    ## Evaluation of model\n",
    "    testingAccuracy.append(accuracy_score(ytest.argmax(1),\n",
    "                            s.run(predictedy, {inputX: Xtest, keepProb:1}).argmax(1)))\n",
    "\n"
   ]
  },
  {
   "cell_type": "code",
   "execution_count": 15,
   "metadata": {},
   "outputs": [
    {
     "data": {
      "image/png": "[encoded data removed]",
      "text/plain": [
       "<Figure size 432x288 with 1 Axes>"
      ]
     },
     "metadata": {
      "needs_background": "light"
     },
     "output_type": "display_data"
    }
   ],
   "source": [
    "## Plotting chart of training and testing accuracy as a function of iterations\n",
    "iterations = list(range(epochs))\n",
    "plt.plot(iterations, trainingAccuracy, label='Train')\n",
    "plt.plot(iterations, testingAccuracy, label='Test')\n",
    "plt.ylabel('Accuracy')\n",
    "plt.xlabel('iterations')\n",
    "plt.show()"
   ]
  },
  {
   "cell_type": "code",
   "execution_count": null,
   "metadata": {},
   "outputs": [],
   "source": []
  }
 ],
 "metadata": {
  "kernelspec": {
   "display_name": "Python 3",
   "language": "python",
   "name": "python3"
  },
  "language_info": {
   "codemirror_mode": {
    "name": "ipython",
    "version": 3
   },
   "file_extension": ".py",
   "mimetype": "text/x-python",
   "name": "python",
   "nbconvert_exporter": "python",
   "pygments_lexer": "ipython3",
   "version": "3.6.7"
  }
 },
 "nbformat": 4,
 "nbformat_minor": 2
}
